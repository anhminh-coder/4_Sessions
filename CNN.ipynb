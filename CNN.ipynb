{
  "nbformat": 4,
  "nbformat_minor": 0,
  "metadata": {
    "colab": {
      "provenance": []
    },
    "kernelspec": {
      "name": "python3",
      "display_name": "Python 3"
    },
    "language_info": {
      "name": "python"
    }
  },
  "cells": [
    {
      "cell_type": "code",
      "execution_count": 1,
      "metadata": {
        "id": "f83v5rSoMELA"
      },
      "outputs": [],
      "source": [
        "import numpy as np\n",
        "from keras.models import Sequential\n",
        "from keras.layers import Conv2D, MaxPooling2D\n",
        "from keras.layers import Flatten, Dense, Dropout, Activation\n",
        "from keras.utils import np_utils\n",
        "from keras.datasets import mnist"
      ]
    },
    {
      "cell_type": "code",
      "source": [
        "# 2. Load dữ liệu MNIST\n",
        "(X_train, y_train), (X_test, y_test) = mnist.load_data()\n",
        "X_val, y_val = X_train[50000:60000,:], y_train[50000:60000]\n",
        "X_train, y_train = X_train[:50000,:], y_train[:50000]\n",
        "print(X_train.shape)"
      ],
      "metadata": {
        "colab": {
          "base_uri": "https://localhost:8080/"
        },
        "id": "u8wYmw5PM9SI",
        "outputId": "95fef3e3-4bc6-4f1a-a4f9-a0a6396b372c"
      },
      "execution_count": 2,
      "outputs": [
        {
          "output_type": "stream",
          "name": "stdout",
          "text": [
            "Downloading data from https://storage.googleapis.com/tensorflow/tf-keras-datasets/mnist.npz\n",
            "11490434/11490434 [==============================] - 0s 0us/step\n",
            "(50000, 28, 28)\n"
          ]
        }
      ]
    },
    {
      "cell_type": "code",
      "source": [
        "# 3. Reshape lại dữ liệu cho đúng kích thước mà keras yêu cầu\n",
        "X_train = X_train.reshape(X_train.shape[0], 28, 28, 1)\n",
        "X_val = X_val.reshape(X_val.shape[0], 28, 28, 1)\n",
        "X_test = X_test.reshape(X_test.shape[0], 28, 28, 1)"
      ],
      "metadata": {
        "id": "qL9-8AynNA8S"
      },
      "execution_count": 6,
      "outputs": []
    },
    {
      "cell_type": "code",
      "source": [
        "# 4. One hot encoding label (Y)\n",
        "Y_train = np_utils.to_categorical(y_train, 10)\n",
        "Y_val = np_utils.to_categorical(y_val, 10)\n",
        "Y_test = np_utils.to_categorical(y_test, 10)\n",
        "print('Dữ liệu y ban đầu ', y_train[0])\n",
        "print('Dữ liệu y sau one-hot encoding ',Y_train[0])"
      ],
      "metadata": {
        "colab": {
          "base_uri": "https://localhost:8080/"
        },
        "id": "anZXrxUbNF9-",
        "outputId": "062053ed-39b1-4e4a-bfe1-158c8d3fb35d"
      },
      "execution_count": 7,
      "outputs": [
        {
          "output_type": "stream",
          "name": "stdout",
          "text": [
            "Dữ liệu y ban đầu  5\n",
            "Dữ liệu y sau one-hot encoding  [0. 0. 0. 0. 0. 1. 0. 0. 0. 0.]\n"
          ]
        }
      ]
    },
    {
      "cell_type": "code",
      "source": [
        "def vgg_block(num_convs, num_channels):\n",
        "  block = Sequential()\n",
        "  for _ in range(num_convs):\n",
        "    block.add(Conv2D(num_channels, (3, 3), activation='sigmoid'))\n",
        "  block.add(MaxPooling2D(pool_size=(2,2)))\n",
        "  return block"
      ],
      "metadata": {
        "id": "DretU8tTNIdn"
      },
      "execution_count": 70,
      "outputs": []
    },
    {
      "cell_type": "code",
      "source": [
        "def vgg(loops):\n",
        "  model = Sequential()\n",
        "  model.add(Conv2D(32, (3,3), activation='sigmoid', input_shape=(28,28,1)))\n",
        "  for _ in range(loops):\n",
        "    model.add(vgg_block(1, 32))\n",
        "  model.add(Flatten())\n",
        "  model.add(Dense(128, activation='sigmoid'))\n",
        "  model.add(Dense(10, activation='softmax'))\n",
        "  return model"
      ],
      "metadata": {
        "id": "e_XkvNphO_NO"
      },
      "execution_count": 73,
      "outputs": []
    },
    {
      "cell_type": "code",
      "source": [
        "model = vgg(2)"
      ],
      "metadata": {
        "id": "E0HaNpXYTWVg"
      },
      "execution_count": 76,
      "outputs": []
    },
    {
      "cell_type": "code",
      "source": [
        "# 6. Compile model, chỉ rõ hàm loss_function nào được sử dụng, phương thức \n",
        "# đùng để tối ưu hàm loss function.\n",
        "model.compile(loss='categorical_crossentropy',\n",
        "              optimizer='adam',\n",
        "              metrics=['accuracy'])"
      ],
      "metadata": {
        "id": "bzvQa_xtTj5B"
      },
      "execution_count": 78,
      "outputs": []
    },
    {
      "cell_type": "code",
      "source": [
        "model.fit(X_train, Y_train, validation_data=(X_val, Y_val),\n",
        "          batch_size=32, epochs=10, verbose=1)"
      ],
      "metadata": {
        "colab": {
          "base_uri": "https://localhost:8080/"
        },
        "id": "0Mqk4x_IaUhY",
        "outputId": "8d5c3863-d258-4488-d66e-d2a58e4be732"
      },
      "execution_count": 80,
      "outputs": [
        {
          "output_type": "stream",
          "name": "stdout",
          "text": [
            "Epoch 1/10\n",
            "1563/1563 [==============================] - 75s 48ms/step - loss: 0.3651 - accuracy: 0.8896 - val_loss: 0.0853 - val_accuracy: 0.9783\n",
            "Epoch 2/10\n",
            "1563/1563 [==============================] - 76s 49ms/step - loss: 0.0702 - accuracy: 0.9796 - val_loss: 0.0557 - val_accuracy: 0.9844\n",
            "Epoch 3/10\n",
            "1563/1563 [==============================] - 75s 48ms/step - loss: 0.0489 - accuracy: 0.9857 - val_loss: 0.0467 - val_accuracy: 0.9870\n",
            "Epoch 4/10\n",
            "1563/1563 [==============================] - 75s 48ms/step - loss: 0.0355 - accuracy: 0.9894 - val_loss: 0.0457 - val_accuracy: 0.9874\n",
            "Epoch 5/10\n",
            "1563/1563 [==============================] - 77s 49ms/step - loss: 0.0287 - accuracy: 0.9910 - val_loss: 0.0412 - val_accuracy: 0.9884\n",
            "Epoch 6/10\n",
            "1563/1563 [==============================] - 76s 48ms/step - loss: 0.0229 - accuracy: 0.9927 - val_loss: 0.0377 - val_accuracy: 0.9891\n",
            "Epoch 7/10\n",
            "1563/1563 [==============================] - 77s 50ms/step - loss: 0.0179 - accuracy: 0.9943 - val_loss: 0.0410 - val_accuracy: 0.9891\n",
            "Epoch 8/10\n",
            "1563/1563 [==============================] - 76s 49ms/step - loss: 0.0139 - accuracy: 0.9960 - val_loss: 0.0368 - val_accuracy: 0.9890\n",
            "Epoch 9/10\n",
            "1563/1563 [==============================] - 76s 49ms/step - loss: 0.0118 - accuracy: 0.9965 - val_loss: 0.0336 - val_accuracy: 0.9909\n",
            "Epoch 10/10\n",
            "1563/1563 [==============================] - 78s 50ms/step - loss: 0.0092 - accuracy: 0.9972 - val_loss: 0.0349 - val_accuracy: 0.9907\n"
          ]
        },
        {
          "output_type": "execute_result",
          "data": {
            "text/plain": [
              "<keras.callbacks.History at 0x7f8415e96d50>"
            ]
          },
          "metadata": {},
          "execution_count": 80
        }
      ]
    }
  ]
}