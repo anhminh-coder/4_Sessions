{
 "cells": [
  {
   "cell_type": "code",
   "execution_count": 1,
   "id": "6995cd72",
   "metadata": {},
   "outputs": [],
   "source": [
    "import os\n",
    "import numpy as np\n",
    "from sklearn.svm import LinearSVC\n",
    "from sklearn.metrics import accuracy_score"
   ]
  },
  {
   "cell_type": "code",
   "execution_count": 4,
   "id": "46a67f64",
   "metadata": {},
   "outputs": [],
   "source": [
    "def load_data(data_path):\n",
    "    def sparse_to_dense(sparse_r_d, vocab_size):\n",
    "            r_d = [0.0 for _ in range(vocab_size)]\n",
    "            indices_tfidfs = sparse_r_d.split()\n",
    "            for index_tfidf in indices_tfidfs:\n",
    "                index = int(index_tfidf.split(\":\")[0])\n",
    "                tfidf = float(index_tfidf.split(\":\")[1])\n",
    "                r_d[index] = tfidf\n",
    "            return np.array(r_d)\n",
    "        \n",
    "    with open(data_path) as f:\n",
    "        d_lines = f.read().splitlines()\n",
    "    with open(os.getcwd()+'/20news-bydate/20news-full-words-idfs.txt') as f:\n",
    "        vocab_size = len(f.read().splitlines())\n",
    "        \n",
    "    data = []\n",
    "    labels = []\n",
    "    for d in d_lines:\n",
    "        features = d.split('<fff>')\n",
    "        label, doc_id = int(features[0]), int(features[1])\n",
    "        r_d = sparse_to_dense(sparse_r_d=features[2], vocab_size=vocab_size)\n",
    "        data.append(r_d)\n",
    "        labels.append(label)\n",
    "    return data, labels"
   ]
  },
  {
   "cell_type": "code",
   "execution_count": 8,
   "id": "4015f95e",
   "metadata": {},
   "outputs": [],
   "source": [
    "def classifying_with_linear_SVMs():\n",
    "    X_train, y_train = load_data(os.getcwd()+'/20news-bydate/20news-train-tf-idf.txt')\n",
    "    classifier = LinearSVC(C=10.0, tol=0.001, verbose=True)\n",
    "    classifier.fit(X_train, y_train)\n",
    "    X_test, y_test = load_data(os.getcwd()+'/20news-bydate/20news-test-tf-idf.txt')\n",
    "    y_predicted = classifier.predict(X_test)\n",
    "    print('Accuracy:', accuracy_score(y_predicted, y_test))"
   ]
  },
  {
   "cell_type": "code",
   "execution_count": 9,
   "id": "0e3add1d",
   "metadata": {},
   "outputs": [
    {
     "name": "stdout",
     "output_type": "stream",
     "text": [
      "[LibLinear]Accuracy: 0.8278013807753585\n"
     ]
    }
   ],
   "source": [
    "classifying_with_linear_SVMs()"
   ]
  }
 ],
 "metadata": {
  "kernelspec": {
   "display_name": "Python 3 (ipykernel)",
   "language": "python",
   "name": "python3"
  },
  "language_info": {
   "codemirror_mode": {
    "name": "ipython",
    "version": 3
   },
   "file_extension": ".py",
   "mimetype": "text/x-python",
   "name": "python",
   "nbconvert_exporter": "python",
   "pygments_lexer": "ipython3",
   "version": "3.9.12"
  }
 },
 "nbformat": 4,
 "nbformat_minor": 5
}
