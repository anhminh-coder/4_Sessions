{
  "nbformat": 4,
  "nbformat_minor": 0,
  "metadata": {
    "colab": {
      "provenance": []
    },
    "kernelspec": {
      "name": "python3",
      "display_name": "Python 3"
    },
    "language_info": {
      "name": "python"
    },
    "accelerator": "GPU",
    "gpuClass": "standard"
  },
  "cells": [
    {
      "cell_type": "code",
      "execution_count": 1,
      "metadata": {
        "id": "CwT49tC1d5Lc"
      },
      "outputs": [],
      "source": [
        "from keras.preprocessing.text import Tokenizer\n",
        "from keras.layers import Embedding, LSTM, Dense\n",
        "from keras.models import Sequential\n",
        "from keras.utils import to_categorical\n",
        "from keras.optimizers import Adam\n",
        "import pickle\n",
        "import numpy as np\n",
        "import os"
      ]
    },
    {
      "cell_type": "code",
      "source": [
        "from google.colab import files\n",
        "uploaded = files.upload()"
      ],
      "metadata": {
        "colab": {
          "base_uri": "https://localhost:8080/",
          "height": 74
        },
        "id": "Y8_ZkEVgein8",
        "outputId": "9b7f7c3e-2721-4ff3-db10-374aa8775e21"
      },
      "execution_count": 2,
      "outputs": [
        {
          "output_type": "display_data",
          "data": {
            "text/plain": [
              "<IPython.core.display.HTML object>"
            ],
            "text/html": [
              "\n",
              "     <input type=\"file\" id=\"files-f878d453-b527-47eb-89ec-1808f99cb3e9\" name=\"files[]\" multiple disabled\n",
              "        style=\"border:none\" />\n",
              "     <output id=\"result-f878d453-b527-47eb-89ec-1808f99cb3e9\">\n",
              "      Upload widget is only available when the cell has been executed in the\n",
              "      current browser session. Please rerun this cell to enable.\n",
              "      </output>\n",
              "      <script>// Copyright 2017 Google LLC\n",
              "//\n",
              "// Licensed under the Apache License, Version 2.0 (the \"License\");\n",
              "// you may not use this file except in compliance with the License.\n",
              "// You may obtain a copy of the License at\n",
              "//\n",
              "//      http://www.apache.org/licenses/LICENSE-2.0\n",
              "//\n",
              "// Unless required by applicable law or agreed to in writing, software\n",
              "// distributed under the License is distributed on an \"AS IS\" BASIS,\n",
              "// WITHOUT WARRANTIES OR CONDITIONS OF ANY KIND, either express or implied.\n",
              "// See the License for the specific language governing permissions and\n",
              "// limitations under the License.\n",
              "\n",
              "/**\n",
              " * @fileoverview Helpers for google.colab Python module.\n",
              " */\n",
              "(function(scope) {\n",
              "function span(text, styleAttributes = {}) {\n",
              "  const element = document.createElement('span');\n",
              "  element.textContent = text;\n",
              "  for (const key of Object.keys(styleAttributes)) {\n",
              "    element.style[key] = styleAttributes[key];\n",
              "  }\n",
              "  return element;\n",
              "}\n",
              "\n",
              "// Max number of bytes which will be uploaded at a time.\n",
              "const MAX_PAYLOAD_SIZE = 100 * 1024;\n",
              "\n",
              "function _uploadFiles(inputId, outputId) {\n",
              "  const steps = uploadFilesStep(inputId, outputId);\n",
              "  const outputElement = document.getElementById(outputId);\n",
              "  // Cache steps on the outputElement to make it available for the next call\n",
              "  // to uploadFilesContinue from Python.\n",
              "  outputElement.steps = steps;\n",
              "\n",
              "  return _uploadFilesContinue(outputId);\n",
              "}\n",
              "\n",
              "// This is roughly an async generator (not supported in the browser yet),\n",
              "// where there are multiple asynchronous steps and the Python side is going\n",
              "// to poll for completion of each step.\n",
              "// This uses a Promise to block the python side on completion of each step,\n",
              "// then passes the result of the previous step as the input to the next step.\n",
              "function _uploadFilesContinue(outputId) {\n",
              "  const outputElement = document.getElementById(outputId);\n",
              "  const steps = outputElement.steps;\n",
              "\n",
              "  const next = steps.next(outputElement.lastPromiseValue);\n",
              "  return Promise.resolve(next.value.promise).then((value) => {\n",
              "    // Cache the last promise value to make it available to the next\n",
              "    // step of the generator.\n",
              "    outputElement.lastPromiseValue = value;\n",
              "    return next.value.response;\n",
              "  });\n",
              "}\n",
              "\n",
              "/**\n",
              " * Generator function which is called between each async step of the upload\n",
              " * process.\n",
              " * @param {string} inputId Element ID of the input file picker element.\n",
              " * @param {string} outputId Element ID of the output display.\n",
              " * @return {!Iterable<!Object>} Iterable of next steps.\n",
              " */\n",
              "function* uploadFilesStep(inputId, outputId) {\n",
              "  const inputElement = document.getElementById(inputId);\n",
              "  inputElement.disabled = false;\n",
              "\n",
              "  const outputElement = document.getElementById(outputId);\n",
              "  outputElement.innerHTML = '';\n",
              "\n",
              "  const pickedPromise = new Promise((resolve) => {\n",
              "    inputElement.addEventListener('change', (e) => {\n",
              "      resolve(e.target.files);\n",
              "    });\n",
              "  });\n",
              "\n",
              "  const cancel = document.createElement('button');\n",
              "  inputElement.parentElement.appendChild(cancel);\n",
              "  cancel.textContent = 'Cancel upload';\n",
              "  const cancelPromise = new Promise((resolve) => {\n",
              "    cancel.onclick = () => {\n",
              "      resolve(null);\n",
              "    };\n",
              "  });\n",
              "\n",
              "  // Wait for the user to pick the files.\n",
              "  const files = yield {\n",
              "    promise: Promise.race([pickedPromise, cancelPromise]),\n",
              "    response: {\n",
              "      action: 'starting',\n",
              "    }\n",
              "  };\n",
              "\n",
              "  cancel.remove();\n",
              "\n",
              "  // Disable the input element since further picks are not allowed.\n",
              "  inputElement.disabled = true;\n",
              "\n",
              "  if (!files) {\n",
              "    return {\n",
              "      response: {\n",
              "        action: 'complete',\n",
              "      }\n",
              "    };\n",
              "  }\n",
              "\n",
              "  for (const file of files) {\n",
              "    const li = document.createElement('li');\n",
              "    li.append(span(file.name, {fontWeight: 'bold'}));\n",
              "    li.append(span(\n",
              "        `(${file.type || 'n/a'}) - ${file.size} bytes, ` +\n",
              "        `last modified: ${\n",
              "            file.lastModifiedDate ? file.lastModifiedDate.toLocaleDateString() :\n",
              "                                    'n/a'} - `));\n",
              "    const percent = span('0% done');\n",
              "    li.appendChild(percent);\n",
              "\n",
              "    outputElement.appendChild(li);\n",
              "\n",
              "    const fileDataPromise = new Promise((resolve) => {\n",
              "      const reader = new FileReader();\n",
              "      reader.onload = (e) => {\n",
              "        resolve(e.target.result);\n",
              "      };\n",
              "      reader.readAsArrayBuffer(file);\n",
              "    });\n",
              "    // Wait for the data to be ready.\n",
              "    let fileData = yield {\n",
              "      promise: fileDataPromise,\n",
              "      response: {\n",
              "        action: 'continue',\n",
              "      }\n",
              "    };\n",
              "\n",
              "    // Use a chunked sending to avoid message size limits. See b/62115660.\n",
              "    let position = 0;\n",
              "    do {\n",
              "      const length = Math.min(fileData.byteLength - position, MAX_PAYLOAD_SIZE);\n",
              "      const chunk = new Uint8Array(fileData, position, length);\n",
              "      position += length;\n",
              "\n",
              "      const base64 = btoa(String.fromCharCode.apply(null, chunk));\n",
              "      yield {\n",
              "        response: {\n",
              "          action: 'append',\n",
              "          file: file.name,\n",
              "          data: base64,\n",
              "        },\n",
              "      };\n",
              "\n",
              "      let percentDone = fileData.byteLength === 0 ?\n",
              "          100 :\n",
              "          Math.round((position / fileData.byteLength) * 100);\n",
              "      percent.textContent = `${percentDone}% done`;\n",
              "\n",
              "    } while (position < fileData.byteLength);\n",
              "  }\n",
              "\n",
              "  // All done.\n",
              "  yield {\n",
              "    response: {\n",
              "      action: 'complete',\n",
              "    }\n",
              "  };\n",
              "}\n",
              "\n",
              "scope.google = scope.google || {};\n",
              "scope.google.colab = scope.google.colab || {};\n",
              "scope.google.colab._files = {\n",
              "  _uploadFiles,\n",
              "  _uploadFilesContinue,\n",
              "};\n",
              "})(self);\n",
              "</script> "
            ]
          },
          "metadata": {}
        },
        {
          "output_type": "stream",
          "name": "stdout",
          "text": [
            "Saving Pride and Prejudice.txt to Pride and Prejudice (1).txt\n"
          ]
        }
      ]
    },
    {
      "cell_type": "code",
      "source": [
        "file = open(\"Pride and Prejudice.txt\", 'r', encoding = 'utf8')\n",
        "\n",
        "# store file in list\n",
        "lines = []\n",
        "for i in file:\n",
        "  lines.append(i)\n",
        "\n",
        "# convert list to string\n",
        "data = \"\"\n",
        "for i in lines:\n",
        "  data += i\n",
        "  data += ' '\n",
        "\n",
        "#replace unnecessary stuff with space\n",
        "data = data.replace('\\n', '').replace('\\r','').replace('\\ufeff','').replace('“','').replace('”','')\n",
        "\n",
        "#remove unnecessary spaces\n",
        "data = data.split()\n",
        "data = ' '.join(data)\n",
        "data[:500]"
      ],
      "metadata": {
        "colab": {
          "base_uri": "https://localhost:8080/",
          "height": 70
        },
        "id": "4sxIzYKpe4jL",
        "outputId": "1e197ed7-f57a-43d2-b05a-b4b20e90011d"
      },
      "execution_count": 3,
      "outputs": [
        {
          "output_type": "execute_result",
          "data": {
            "text/plain": [
              "'The Project Gutenberg eBook of Pride and Prejudice, by Jane Austen This eBook is for the use of anyone anywhere in the United States and most other parts of the world at no cost and with almost no restrictions whatsoever. You may copy it, give it away or re-use it under the terms of the Project Gutenberg License included with this eBook or online at www.gutenberg.org. If you are not located in the United States, you will have to check the laws of the country where you are located before using th'"
            ],
            "application/vnd.google.colaboratory.intrinsic+json": {
              "type": "string"
            }
          },
          "metadata": {},
          "execution_count": 3
        }
      ]
    },
    {
      "cell_type": "code",
      "source": [
        "len(data)"
      ],
      "metadata": {
        "colab": {
          "base_uri": "https://localhost:8080/"
        },
        "id": "mI1QPetMiGz-",
        "outputId": "94a270dc-a659-44dc-a219-f663042f3138"
      },
      "execution_count": 4,
      "outputs": [
        {
          "output_type": "execute_result",
          "data": {
            "text/plain": [
              "698418"
            ]
          },
          "metadata": {},
          "execution_count": 4
        }
      ]
    },
    {
      "cell_type": "code",
      "source": [
        "tokenizer = Tokenizer()\n",
        "tokenizer.fit_on_texts([data])\n",
        "\n",
        "pickle.dump(tokenizer, open('token.pkl', 'wb'))\n",
        "\n",
        "sequence_data = tokenizer.texts_to_sequences([data])[0]\n",
        "sequence_data[:15]"
      ],
      "metadata": {
        "colab": {
          "base_uri": "https://localhost:8080/"
        },
        "id": "4M_OnLdGidyj",
        "outputId": "dbc2d1e1-5835-4a7c-a82c-51aae8c8de1c"
      },
      "execution_count": 5,
      "outputs": [
        {
          "output_type": "execute_result",
          "data": {
            "text/plain": [
              "[1, 176, 158, 916, 3, 321, 4, 1171, 30, 72, 2534, 41, 916, 23, 21]"
            ]
          },
          "metadata": {},
          "execution_count": 5
        }
      ]
    },
    {
      "cell_type": "code",
      "source": [
        "vocab_size = len(tokenizer.word_index)+1\n",
        "print(vocab_size)"
      ],
      "metadata": {
        "colab": {
          "base_uri": "https://localhost:8080/"
        },
        "id": "2StsexN8jRKp",
        "outputId": "9f54b399-dc1d-4443-96dc-7369e2faf142"
      },
      "execution_count": 6,
      "outputs": [
        {
          "output_type": "stream",
          "name": "stdout",
          "text": [
            "7030\n"
          ]
        }
      ]
    },
    {
      "cell_type": "code",
      "source": [
        "sequences = []\n",
        "\n",
        "for i in range(3, len(sequence_data)):\n",
        "  words = sequence_data[i-3:i+1]\n",
        "  sequences.append(words)\n",
        "\n",
        "print('The length of sequences are: ', len(sequences))\n",
        "sequences = np.array(sequences)\n",
        "sequences[:10]"
      ],
      "metadata": {
        "colab": {
          "base_uri": "https://localhost:8080/"
        },
        "id": "CTyid64LklPx",
        "outputId": "ddebed09-3a09-4dd2-d6d5-2979fbf7edbc"
      },
      "execution_count": 7,
      "outputs": [
        {
          "output_type": "stream",
          "name": "stdout",
          "text": [
            "The length of sequences are:  125306\n"
          ]
        },
        {
          "output_type": "execute_result",
          "data": {
            "text/plain": [
              "array([[   1,  176,  158,  916],\n",
              "       [ 176,  158,  916,    3],\n",
              "       [ 158,  916,    3,  321],\n",
              "       [ 916,    3,  321,    4],\n",
              "       [   3,  321,    4, 1171],\n",
              "       [ 321,    4, 1171,   30],\n",
              "       [   4, 1171,   30,   72],\n",
              "       [1171,   30,   72, 2534],\n",
              "       [  30,   72, 2534,   41],\n",
              "       [  72, 2534,   41,  916]])"
            ]
          },
          "metadata": {},
          "execution_count": 7
        }
      ]
    },
    {
      "cell_type": "code",
      "source": [
        "X = []\n",
        "y = []\n",
        "\n",
        "for i in sequences:\n",
        "  X.append(i[0:3])\n",
        "  y.append(i[3])\n",
        "\n",
        "X = np.array(X)\n",
        "y = np.array(y)"
      ],
      "metadata": {
        "id": "U97qn7qTlaZv"
      },
      "execution_count": 8,
      "outputs": []
    },
    {
      "cell_type": "code",
      "source": [
        "print('Data: ', X[:10])\n",
        "print('Response: ', y[:10])"
      ],
      "metadata": {
        "colab": {
          "base_uri": "https://localhost:8080/"
        },
        "id": "ibvwpNJgl0uQ",
        "outputId": "6d23e071-c1b8-47e2-eb61-7694f3e22239"
      },
      "execution_count": 18,
      "outputs": [
        {
          "output_type": "stream",
          "name": "stdout",
          "text": [
            "Data:  [[   1  176  158]\n",
            " [ 176  158  916]\n",
            " [ 158  916    3]\n",
            " [ 916    3  321]\n",
            " [   3  321    4]\n",
            " [ 321    4 1171]\n",
            " [   4 1171   30]\n",
            " [1171   30   72]\n",
            " [  30   72 2534]\n",
            " [  72 2534   41]]\n",
            "Response:  [ 916    3  321    4 1171   30   72 2534   41  916]\n"
          ]
        }
      ]
    },
    {
      "cell_type": "code",
      "source": [
        "y = to_categorical(y, num_classes=vocab_size)\n",
        "y[:5]"
      ],
      "metadata": {
        "colab": {
          "base_uri": "https://localhost:8080/"
        },
        "id": "7ZIMXA4imFDu",
        "outputId": "56cf2198-4929-4e0c-8adf-6a08c3b68760"
      },
      "execution_count": 9,
      "outputs": [
        {
          "output_type": "execute_result",
          "data": {
            "text/plain": [
              "array([[0., 0., 0., ..., 0., 0., 0.],\n",
              "       [0., 0., 0., ..., 0., 0., 0.],\n",
              "       [0., 0., 0., ..., 0., 0., 0.],\n",
              "       [0., 0., 0., ..., 0., 0., 0.],\n",
              "       [0., 0., 0., ..., 0., 0., 0.]], dtype=float32)"
            ]
          },
          "metadata": {},
          "execution_count": 9
        }
      ]
    },
    {
      "cell_type": "code",
      "source": [
        "model = Sequential()\n",
        "model.add(Embedding(vocab_size, 10, input_length=3))\n",
        "model.add(LSTM(1000, return_sequences=True))\n",
        "model.add(LSTM(1000))\n",
        "model.add(Dense(1000, activation='relu'))\n",
        "model.add(Dense(vocab_size, activation='softmax'))"
      ],
      "metadata": {
        "id": "y8b3UzC0moSK"
      },
      "execution_count": 10,
      "outputs": []
    },
    {
      "cell_type": "code",
      "source": [
        "model.summary()"
      ],
      "metadata": {
        "colab": {
          "base_uri": "https://localhost:8080/"
        },
        "id": "lUxlLFtjnIdP",
        "outputId": "7affb340-b3ab-47bf-d096-d10d211ebb9c"
      },
      "execution_count": 11,
      "outputs": [
        {
          "output_type": "stream",
          "name": "stdout",
          "text": [
            "Model: \"sequential\"\n",
            "_________________________________________________________________\n",
            " Layer (type)                Output Shape              Param #   \n",
            "=================================================================\n",
            " embedding (Embedding)       (None, 3, 10)             70300     \n",
            "                                                                 \n",
            " lstm (LSTM)                 (None, 3, 1000)           4044000   \n",
            "                                                                 \n",
            " lstm_1 (LSTM)               (None, 1000)              8004000   \n",
            "                                                                 \n",
            " dense (Dense)               (None, 1000)              1001000   \n",
            "                                                                 \n",
            " dense_1 (Dense)             (None, 7030)              7037030   \n",
            "                                                                 \n",
            "=================================================================\n",
            "Total params: 20,156,330\n",
            "Trainable params: 20,156,330\n",
            "Non-trainable params: 0\n",
            "_________________________________________________________________\n"
          ]
        }
      ]
    },
    {
      "cell_type": "code",
      "source": [
        "from keras.callbacks import ModelCheckpoint\n",
        "\n",
        "checkpoint = ModelCheckpoint(\"next_words.h5\", monitor='loss', verbose=1, save_best_only = True)\n",
        "model.compile(loss='categorical_crossentropy', optimizer=Adam(learning_rate=0.001))\n",
        "model.fit(X, y, epochs=70, batch_size=64, callbacks=[checkpoint])"
      ],
      "metadata": {
        "colab": {
          "base_uri": "https://localhost:8080/"
        },
        "id": "jXskrMXUnLTH",
        "outputId": "2dd185b0-6686-4b4e-de1d-bc31eabbf788"
      },
      "execution_count": 12,
      "outputs": [
        {
          "output_type": "stream",
          "name": "stdout",
          "text": [
            "Epoch 1/70\n",
            "1957/1958 [============================>.] - ETA: 0s - loss: 6.2429\n",
            "Epoch 1: loss improved from inf to 6.24281, saving model to next_words.h5\n",
            "1958/1958 [==============================] - 38s 15ms/step - loss: 6.2428\n",
            "Epoch 2/70\n",
            "1956/1958 [============================>.] - ETA: 0s - loss: 5.6147\n",
            "Epoch 2: loss improved from 6.24281 to 5.61426, saving model to next_words.h5\n",
            "1958/1958 [==============================] - 31s 16ms/step - loss: 5.6143\n",
            "Epoch 3/70\n",
            "1956/1958 [============================>.] - ETA: 0s - loss: 5.2805\n",
            "Epoch 3: loss improved from 5.61426 to 5.28063, saving model to next_words.h5\n",
            "1958/1958 [==============================] - 30s 15ms/step - loss: 5.2806\n",
            "Epoch 4/70\n",
            "1958/1958 [==============================] - ETA: 0s - loss: 5.0585\n",
            "Epoch 4: loss improved from 5.28063 to 5.05851, saving model to next_words.h5\n",
            "1958/1958 [==============================] - 30s 15ms/step - loss: 5.0585\n",
            "Epoch 5/70\n",
            "1955/1958 [============================>.] - ETA: 0s - loss: 4.8650\n",
            "Epoch 5: loss improved from 5.05851 to 4.86456, saving model to next_words.h5\n",
            "1958/1958 [==============================] - 30s 15ms/step - loss: 4.8646\n",
            "Epoch 6/70\n",
            "1958/1958 [==============================] - ETA: 0s - loss: 4.6763\n",
            "Epoch 6: loss improved from 4.86456 to 4.67631, saving model to next_words.h5\n",
            "1958/1958 [==============================] - 30s 15ms/step - loss: 4.6763\n",
            "Epoch 7/70\n",
            "1956/1958 [============================>.] - ETA: 0s - loss: 4.4850\n",
            "Epoch 7: loss improved from 4.67631 to 4.48477, saving model to next_words.h5\n",
            "1958/1958 [==============================] - 30s 15ms/step - loss: 4.4848\n",
            "Epoch 8/70\n",
            "1955/1958 [============================>.] - ETA: 0s - loss: 4.2896\n",
            "Epoch 8: loss improved from 4.48477 to 4.28987, saving model to next_words.h5\n",
            "1958/1958 [==============================] - 30s 15ms/step - loss: 4.2899\n",
            "Epoch 9/70\n",
            "1955/1958 [============================>.] - ETA: 0s - loss: 4.0954\n",
            "Epoch 9: loss improved from 4.28987 to 4.09536, saving model to next_words.h5\n",
            "1958/1958 [==============================] - 30s 15ms/step - loss: 4.0954\n",
            "Epoch 10/70\n",
            "1957/1958 [============================>.] - ETA: 0s - loss: 3.8935\n",
            "Epoch 10: loss improved from 4.09536 to 3.89325, saving model to next_words.h5\n",
            "1958/1958 [==============================] - 30s 15ms/step - loss: 3.8933\n",
            "Epoch 11/70\n",
            "1956/1958 [============================>.] - ETA: 0s - loss: 3.6838\n",
            "Epoch 11: loss improved from 3.89325 to 3.68396, saving model to next_words.h5\n",
            "1958/1958 [==============================] - 30s 15ms/step - loss: 3.6840\n",
            "Epoch 12/70\n",
            "1956/1958 [============================>.] - ETA: 0s - loss: 3.4746\n",
            "Epoch 12: loss improved from 3.68396 to 3.47474, saving model to next_words.h5\n",
            "1958/1958 [==============================] - 30s 15ms/step - loss: 3.4747\n",
            "Epoch 13/70\n",
            "1957/1958 [============================>.] - ETA: 0s - loss: 3.2601\n",
            "Epoch 13: loss improved from 3.47474 to 3.26022, saving model to next_words.h5\n",
            "1958/1958 [==============================] - 30s 15ms/step - loss: 3.2602\n",
            "Epoch 14/70\n",
            "1956/1958 [============================>.] - ETA: 0s - loss: 3.0398\n",
            "Epoch 14: loss improved from 3.26022 to 3.04006, saving model to next_words.h5\n",
            "1958/1958 [==============================] - 30s 15ms/step - loss: 3.0401\n",
            "Epoch 15/70\n",
            "1956/1958 [============================>.] - ETA: 0s - loss: 2.8141\n",
            "Epoch 15: loss improved from 3.04006 to 2.81427, saving model to next_words.h5\n",
            "1958/1958 [==============================] - 30s 15ms/step - loss: 2.8143\n",
            "Epoch 16/70\n",
            "1957/1958 [============================>.] - ETA: 0s - loss: 2.5809\n",
            "Epoch 16: loss improved from 2.81427 to 2.58110, saving model to next_words.h5\n",
            "1958/1958 [==============================] - 30s 15ms/step - loss: 2.5811\n",
            "Epoch 17/70\n",
            "1957/1958 [============================>.] - ETA: 0s - loss: 2.3487\n",
            "Epoch 17: loss improved from 2.58110 to 2.34877, saving model to next_words.h5\n",
            "1958/1958 [==============================] - 30s 15ms/step - loss: 2.3488\n",
            "Epoch 18/70\n",
            "1955/1958 [============================>.] - ETA: 0s - loss: 2.1121\n",
            "Epoch 18: loss improved from 2.34877 to 2.11222, saving model to next_words.h5\n",
            "1958/1958 [==============================] - 30s 15ms/step - loss: 2.1122\n",
            "Epoch 19/70\n",
            "1958/1958 [==============================] - ETA: 0s - loss: 1.8944\n",
            "Epoch 19: loss improved from 2.11222 to 1.89436, saving model to next_words.h5\n",
            "1958/1958 [==============================] - 30s 15ms/step - loss: 1.8944\n",
            "Epoch 20/70\n",
            "1958/1958 [==============================] - ETA: 0s - loss: 1.6926\n",
            "Epoch 20: loss improved from 1.89436 to 1.69260, saving model to next_words.h5\n",
            "1958/1958 [==============================] - 30s 15ms/step - loss: 1.6926\n",
            "Epoch 21/70\n",
            "1957/1958 [============================>.] - ETA: 0s - loss: 1.5088\n",
            "Epoch 21: loss improved from 1.69260 to 1.50902, saving model to next_words.h5\n",
            "1958/1958 [==============================] - 30s 15ms/step - loss: 1.5090\n",
            "Epoch 22/70\n",
            "1958/1958 [==============================] - ETA: 0s - loss: 1.3531\n",
            "Epoch 22: loss improved from 1.50902 to 1.35307, saving model to next_words.h5\n",
            "1958/1958 [==============================] - 30s 15ms/step - loss: 1.3531\n",
            "Epoch 23/70\n",
            "1957/1958 [============================>.] - ETA: 0s - loss: 1.2176\n",
            "Epoch 23: loss improved from 1.35307 to 1.21775, saving model to next_words.h5\n",
            "1958/1958 [==============================] - 29s 15ms/step - loss: 1.2178\n",
            "Epoch 24/70\n",
            "1957/1958 [============================>.] - ETA: 0s - loss: 1.1018\n",
            "Epoch 24: loss improved from 1.21775 to 1.10183, saving model to next_words.h5\n",
            "1958/1958 [==============================] - 30s 15ms/step - loss: 1.1018\n",
            "Epoch 25/70\n",
            "1955/1958 [============================>.] - ETA: 0s - loss: 1.0158\n",
            "Epoch 25: loss improved from 1.10183 to 1.01587, saving model to next_words.h5\n",
            "1958/1958 [==============================] - 30s 15ms/step - loss: 1.0159\n",
            "Epoch 26/70\n",
            "1957/1958 [============================>.] - ETA: 0s - loss: 0.9435\n",
            "Epoch 26: loss improved from 1.01587 to 0.94364, saving model to next_words.h5\n",
            "1958/1958 [==============================] - 30s 15ms/step - loss: 0.9436\n",
            "Epoch 27/70\n",
            "1957/1958 [============================>.] - ETA: 0s - loss: 0.8872\n",
            "Epoch 27: loss improved from 0.94364 to 0.88732, saving model to next_words.h5\n",
            "1958/1958 [==============================] - 30s 15ms/step - loss: 0.8873\n",
            "Epoch 28/70\n",
            "1956/1958 [============================>.] - ETA: 0s - loss: 0.8360\n",
            "Epoch 28: loss improved from 0.88732 to 0.83620, saving model to next_words.h5\n",
            "1958/1958 [==============================] - 30s 15ms/step - loss: 0.8362\n",
            "Epoch 29/70\n",
            "1957/1958 [============================>.] - ETA: 0s - loss: 0.7999\n",
            "Epoch 29: loss improved from 0.83620 to 0.79994, saving model to next_words.h5\n",
            "1958/1958 [==============================] - 30s 15ms/step - loss: 0.7999\n",
            "Epoch 30/70\n",
            "1958/1958 [==============================] - ETA: 0s - loss: 0.7654\n",
            "Epoch 30: loss improved from 0.79994 to 0.76538, saving model to next_words.h5\n",
            "1958/1958 [==============================] - 30s 15ms/step - loss: 0.7654\n",
            "Epoch 31/70\n",
            "1956/1958 [============================>.] - ETA: 0s - loss: 0.7355\n",
            "Epoch 31: loss improved from 0.76538 to 0.73545, saving model to next_words.h5\n",
            "1958/1958 [==============================] - 30s 15ms/step - loss: 0.7354\n",
            "Epoch 32/70\n",
            "1957/1958 [============================>.] - ETA: 0s - loss: 0.7086\n",
            "Epoch 32: loss improved from 0.73545 to 0.70869, saving model to next_words.h5\n",
            "1958/1958 [==============================] - 30s 15ms/step - loss: 0.7087\n",
            "Epoch 33/70\n",
            "1958/1958 [==============================] - ETA: 0s - loss: 0.6914\n",
            "Epoch 33: loss improved from 0.70869 to 0.69144, saving model to next_words.h5\n",
            "1958/1958 [==============================] - 30s 15ms/step - loss: 0.6914\n",
            "Epoch 34/70\n",
            "1956/1958 [============================>.] - ETA: 0s - loss: 0.6713\n",
            "Epoch 34: loss improved from 0.69144 to 0.67140, saving model to next_words.h5\n",
            "1958/1958 [==============================] - 30s 15ms/step - loss: 0.6714\n",
            "Epoch 35/70\n",
            "1955/1958 [============================>.] - ETA: 0s - loss: 0.6537\n",
            "Epoch 35: loss improved from 0.67140 to 0.65387, saving model to next_words.h5\n",
            "1958/1958 [==============================] - 30s 15ms/step - loss: 0.6539\n",
            "Epoch 36/70\n",
            "1956/1958 [============================>.] - ETA: 0s - loss: 0.6366\n",
            "Epoch 36: loss improved from 0.65387 to 0.63654, saving model to next_words.h5\n",
            "1958/1958 [==============================] - 30s 15ms/step - loss: 0.6365\n",
            "Epoch 37/70\n",
            "1955/1958 [============================>.] - ETA: 0s - loss: 0.6263\n",
            "Epoch 37: loss improved from 0.63654 to 0.62665, saving model to next_words.h5\n",
            "1958/1958 [==============================] - 30s 15ms/step - loss: 0.6266\n",
            "Epoch 38/70\n",
            "1956/1958 [============================>.] - ETA: 0s - loss: 0.6144\n",
            "Epoch 38: loss improved from 0.62665 to 0.61461, saving model to next_words.h5\n",
            "1958/1958 [==============================] - 30s 15ms/step - loss: 0.6146\n",
            "Epoch 39/70\n",
            "1958/1958 [==============================] - ETA: 0s - loss: 0.6014\n",
            "Epoch 39: loss improved from 0.61461 to 0.60142, saving model to next_words.h5\n",
            "1958/1958 [==============================] - 30s 15ms/step - loss: 0.6014\n",
            "Epoch 40/70\n",
            "1958/1958 [==============================] - ETA: 0s - loss: 0.5929\n",
            "Epoch 40: loss improved from 0.60142 to 0.59293, saving model to next_words.h5\n",
            "1958/1958 [==============================] - 30s 15ms/step - loss: 0.5929\n",
            "Epoch 41/70\n",
            "1957/1958 [============================>.] - ETA: 0s - loss: 0.5830\n",
            "Epoch 41: loss improved from 0.59293 to 0.58294, saving model to next_words.h5\n",
            "1958/1958 [==============================] - 30s 15ms/step - loss: 0.5829\n",
            "Epoch 42/70\n",
            "1957/1958 [============================>.] - ETA: 0s - loss: 0.5700\n",
            "Epoch 42: loss improved from 0.58294 to 0.56994, saving model to next_words.h5\n",
            "1958/1958 [==============================] - 30s 15ms/step - loss: 0.5699\n",
            "Epoch 43/70\n",
            "1955/1958 [============================>.] - ETA: 0s - loss: 0.5623\n",
            "Epoch 43: loss improved from 0.56994 to 0.56254, saving model to next_words.h5\n",
            "1958/1958 [==============================] - 30s 15ms/step - loss: 0.5625\n",
            "Epoch 44/70\n",
            "1958/1958 [==============================] - ETA: 0s - loss: 0.5537\n",
            "Epoch 44: loss improved from 0.56254 to 0.55373, saving model to next_words.h5\n",
            "1958/1958 [==============================] - 30s 15ms/step - loss: 0.5537\n",
            "Epoch 45/70\n",
            "1956/1958 [============================>.] - ETA: 0s - loss: 0.5481\n",
            "Epoch 45: loss improved from 0.55373 to 0.54842, saving model to next_words.h5\n",
            "1958/1958 [==============================] - 30s 15ms/step - loss: 0.5484\n",
            "Epoch 46/70\n",
            "1958/1958 [==============================] - ETA: 0s - loss: 0.5398\n",
            "Epoch 46: loss improved from 0.54842 to 0.53978, saving model to next_words.h5\n",
            "1958/1958 [==============================] - 30s 15ms/step - loss: 0.5398\n",
            "Epoch 47/70\n",
            "1955/1958 [============================>.] - ETA: 0s - loss: 0.5366\n",
            "Epoch 47: loss improved from 0.53978 to 0.53690, saving model to next_words.h5\n",
            "1958/1958 [==============================] - 30s 15ms/step - loss: 0.5369\n",
            "Epoch 48/70\n",
            "1956/1958 [============================>.] - ETA: 0s - loss: 0.5264\n",
            "Epoch 48: loss improved from 0.53690 to 0.52647, saving model to next_words.h5\n",
            "1958/1958 [==============================] - 30s 15ms/step - loss: 0.5265\n",
            "Epoch 49/70\n",
            "1955/1958 [============================>.] - ETA: 0s - loss: 0.5181\n",
            "Epoch 49: loss improved from 0.52647 to 0.51813, saving model to next_words.h5\n",
            "1958/1958 [==============================] - 29s 15ms/step - loss: 0.5181\n",
            "Epoch 50/70\n",
            "1957/1958 [============================>.] - ETA: 0s - loss: 0.5182\n",
            "Epoch 50: loss did not improve from 0.51813\n",
            "1958/1958 [==============================] - 29s 15ms/step - loss: 0.5182\n",
            "Epoch 51/70\n",
            "1955/1958 [============================>.] - ETA: 0s - loss: 0.5137\n",
            "Epoch 51: loss improved from 0.51813 to 0.51367, saving model to next_words.h5\n",
            "1958/1958 [==============================] - 29s 15ms/step - loss: 0.5137\n",
            "Epoch 52/70\n",
            "1955/1958 [============================>.] - ETA: 0s - loss: 0.5051\n",
            "Epoch 52: loss improved from 0.51367 to 0.50515, saving model to next_words.h5\n",
            "1958/1958 [==============================] - 30s 15ms/step - loss: 0.5051\n",
            "Epoch 53/70\n",
            "1958/1958 [==============================] - ETA: 0s - loss: 0.5003\n",
            "Epoch 53: loss improved from 0.50515 to 0.50033, saving model to next_words.h5\n",
            "1958/1958 [==============================] - 30s 16ms/step - loss: 0.5003\n",
            "Epoch 54/70\n",
            "1955/1958 [============================>.] - ETA: 0s - loss: 0.4954\n",
            "Epoch 54: loss improved from 0.50033 to 0.49562, saving model to next_words.h5\n",
            "1958/1958 [==============================] - 30s 15ms/step - loss: 0.4956\n",
            "Epoch 55/70\n",
            "1956/1958 [============================>.] - ETA: 0s - loss: 0.4933\n",
            "Epoch 55: loss improved from 0.49562 to 0.49327, saving model to next_words.h5\n",
            "1958/1958 [==============================] - 30s 15ms/step - loss: 0.4933\n",
            "Epoch 56/70\n",
            "1955/1958 [============================>.] - ETA: 0s - loss: 0.4862\n",
            "Epoch 56: loss improved from 0.49327 to 0.48633, saving model to next_words.h5\n",
            "1958/1958 [==============================] - 30s 15ms/step - loss: 0.4863\n",
            "Epoch 57/70\n",
            "1955/1958 [============================>.] - ETA: 0s - loss: 0.4851\n",
            "Epoch 57: loss improved from 0.48633 to 0.48525, saving model to next_words.h5\n",
            "1958/1958 [==============================] - 30s 15ms/step - loss: 0.4853\n",
            "Epoch 58/70\n",
            "1955/1958 [============================>.] - ETA: 0s - loss: 0.4793\n",
            "Epoch 58: loss improved from 0.48525 to 0.47954, saving model to next_words.h5\n",
            "1958/1958 [==============================] - 30s 15ms/step - loss: 0.4795\n",
            "Epoch 59/70\n",
            "1956/1958 [============================>.] - ETA: 0s - loss: 0.4756\n",
            "Epoch 59: loss improved from 0.47954 to 0.47583, saving model to next_words.h5\n",
            "1958/1958 [==============================] - 30s 16ms/step - loss: 0.4758\n",
            "Epoch 60/70\n",
            "1955/1958 [============================>.] - ETA: 0s - loss: 0.4734\n",
            "Epoch 60: loss improved from 0.47583 to 0.47356, saving model to next_words.h5\n",
            "1958/1958 [==============================] - 30s 15ms/step - loss: 0.4736\n",
            "Epoch 61/70\n",
            "1958/1958 [==============================] - ETA: 0s - loss: 0.4704\n",
            "Epoch 61: loss improved from 0.47356 to 0.47036, saving model to next_words.h5\n",
            "1958/1958 [==============================] - 30s 15ms/step - loss: 0.4704\n",
            "Epoch 62/70\n",
            "1958/1958 [==============================] - ETA: 0s - loss: 0.4649\n",
            "Epoch 62: loss improved from 0.47036 to 0.46491, saving model to next_words.h5\n",
            "1958/1958 [==============================] - 30s 15ms/step - loss: 0.4649\n",
            "Epoch 63/70\n",
            "1957/1958 [============================>.] - ETA: 0s - loss: 0.4612\n",
            "Epoch 63: loss improved from 0.46491 to 0.46117, saving model to next_words.h5\n",
            "1958/1958 [==============================] - 30s 15ms/step - loss: 0.4612\n",
            "Epoch 64/70\n",
            "1955/1958 [============================>.] - ETA: 0s - loss: 0.4626\n",
            "Epoch 64: loss did not improve from 0.46117\n",
            "1958/1958 [==============================] - 29s 15ms/step - loss: 0.4629\n",
            "Epoch 65/70\n",
            "1955/1958 [============================>.] - ETA: 0s - loss: 0.4593\n",
            "Epoch 65: loss improved from 0.46117 to 0.45927, saving model to next_words.h5\n",
            "1958/1958 [==============================] - 30s 15ms/step - loss: 0.4593\n",
            "Epoch 66/70\n",
            "1956/1958 [============================>.] - ETA: 0s - loss: 0.4532\n",
            "Epoch 66: loss improved from 0.45927 to 0.45331, saving model to next_words.h5\n",
            "1958/1958 [==============================] - 30s 16ms/step - loss: 0.4533\n",
            "Epoch 67/70\n",
            "1957/1958 [============================>.] - ETA: 0s - loss: 0.4536\n",
            "Epoch 67: loss did not improve from 0.45331\n",
            "1958/1958 [==============================] - 29s 15ms/step - loss: 0.4536\n",
            "Epoch 68/70\n",
            "1956/1958 [============================>.] - ETA: 0s - loss: 0.4474\n",
            "Epoch 68: loss improved from 0.45331 to 0.44746, saving model to next_words.h5\n",
            "1958/1958 [==============================] - 30s 15ms/step - loss: 0.4475\n",
            "Epoch 69/70\n",
            "1956/1958 [============================>.] - ETA: 0s - loss: 0.4479\n",
            "Epoch 69: loss did not improve from 0.44746\n",
            "1958/1958 [==============================] - 29s 15ms/step - loss: 0.4478\n",
            "Epoch 70/70\n",
            "1955/1958 [============================>.] - ETA: 0s - loss: 0.4446\n",
            "Epoch 70: loss improved from 0.44746 to 0.44467, saving model to next_words.h5\n",
            "1958/1958 [==============================] - 30s 15ms/step - loss: 0.4447\n"
          ]
        },
        {
          "output_type": "execute_result",
          "data": {
            "text/plain": [
              "<keras.callbacks.History at 0x7fd575eaaa90>"
            ]
          },
          "metadata": {},
          "execution_count": 12
        }
      ]
    },
    {
      "cell_type": "code",
      "source": [
        "from keras.models import load_model\n",
        "\n",
        "model = load_model('next_words.h5')\n",
        "tokenizer = pickle.load(open('token.pkl', 'rb'))\n",
        "\n",
        "def Predict_Next_Words(model, tokenizer, text):\n",
        "  sequence = tokenizer.texts_to_sequences([text])\n",
        "  sequence = np.array(sequence)\n",
        "  preds = np.argmax(model.predict(sequence))\n",
        "  predicted_word = \"\"\n",
        "\n",
        "  for key, value in tokenizer.word_index.items():\n",
        "    if value == preds:\n",
        "      predicted_word = key\n",
        "      break\n",
        "\n",
        "  print(predicted_word)\n",
        "  return predicted_word"
      ],
      "metadata": {
        "id": "joA7j3A_xZKP"
      },
      "execution_count": 13,
      "outputs": []
    },
    {
      "cell_type": "code",
      "source": [
        "while(True):\n",
        "  text = input(\"Enter your line: \")\n",
        "  \n",
        "  if text == \"0\":\n",
        "    print(\"Execution completed...\")\n",
        "    break\n",
        "  \n",
        "  else:\n",
        "    try:\n",
        "      text = text.split(\" \")\n",
        "      text = text[-3:]\n",
        "      print(text)\n",
        "\n",
        "      Predict_Next_Words(model, tokenizer, text)\n",
        "    \n",
        "    except Exception as e:\n",
        "      print(\"Error occurred: \", e)\n",
        "      continue"
      ],
      "metadata": {
        "colab": {
          "base_uri": "https://localhost:8080/"
        },
        "id": "IYIMYTh6yQNs",
        "outputId": "c405d6a9-355f-41c5-8731-9a4d203e389f"
      },
      "execution_count": null,
      "outputs": [
        {
          "output_type": "stream",
          "name": "stdout",
          "text": [
            "Enter your line:  It is a truth universally\n",
            "['a', 'truth', 'universally']\n",
            "1/1 [==============================] - 1s 974ms/step\n",
            "acknowledged\n",
            "Enter your line: taken by a young man of large\n",
            "['man', 'of', 'large']\n",
            "1/1 [==============================] - 0s 18ms/step\n",
            "fortune\n"
          ]
        }
      ]
    }
  ]
}