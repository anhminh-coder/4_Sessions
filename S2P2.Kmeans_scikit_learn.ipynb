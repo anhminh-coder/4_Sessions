{
 "cells": [
  {
   "cell_type": "code",
   "execution_count": 11,
   "id": "64d1e024",
   "metadata": {},
   "outputs": [],
   "source": [
    "import numpy as np\n",
    "import os\n",
    "from collections import defaultdict\n",
    "from sklearn.cluster import KMeans\n",
    "from scipy.sparse import csr_matrix\n",
    "from sklearn import metrics\n",
    "from sklearn.metrics.cluster import normalized_mutual_info_score"
   ]
  },
  {
   "cell_type": "code",
   "execution_count": 8,
   "id": "37ce0824",
   "metadata": {},
   "outputs": [],
   "source": [
    "def load_data(data_path):\n",
    "    def sparse_to_dense(sparse_r_d, vocab_size):\n",
    "            r_d = [0.0 for _ in range(vocab_size)]\n",
    "            indices_tfidfs = sparse_r_d.split()\n",
    "            for index_tfidf in indices_tfidfs:\n",
    "                index = int(index_tfidf.split(\":\")[0])\n",
    "                tfidf = float(index_tfidf.split(\":\")[1])\n",
    "                r_d[index] = tfidf\n",
    "            return np.array(r_d)\n",
    "        \n",
    "    with open(data_path) as f:\n",
    "        d_lines = f.read().splitlines()\n",
    "    with open(os.getcwd()+'/20news-bydate/20news-full-words-idfs.txt') as f:\n",
    "        vocab_size = len(f.read().splitlines())\n",
    "        \n",
    "    data = []\n",
    "    labels = []\n",
    "    for d in d_lines:\n",
    "        features = d.split('<fff>')\n",
    "        label, doc_id = int(features[0]), int(features[1])\n",
    "        r_d = sparse_to_dense(sparse_r_d=features[2], vocab_size=vocab_size)\n",
    "        data.append(r_d)\n",
    "        labels.append(label)\n",
    "    return data, labels"
   ]
  },
  {
   "cell_type": "code",
   "execution_count": 12,
   "id": "afdce852",
   "metadata": {},
   "outputs": [],
   "source": [
    "def purity_score(y_true, y_pred):\n",
    "    contingency_matrix = metrics.cluster.contingency_matrix(y_true, y_pred)\n",
    "    return np.sum(np.amax(contingency_matrix, axis=0)) / np.sum(contingency_matrix)"
   ]
  },
  {
   "cell_type": "code",
   "execution_count": 16,
   "id": "aaa4b698",
   "metadata": {},
   "outputs": [],
   "source": [
    "def clustering_with_Kmeans():\n",
    "    data, labels = load_data(os.getcwd()+\"/20news-bydate/20news-full-tf-idf.txt\")\n",
    "    X = csr_matrix(data)\n",
    "    print('========')\n",
    "    kmeans = KMeans(n_clusters=20, init='random', n_init=5, tol=1e-3, random_state=2018).fit(X)\n",
    "    print(f\"Purity: {purity_score(labels, kmeans.labels_)}\")\n",
    "    print(f\"{normalized_mutual_info_score(labels, kmeans.labels_)}\")"
   ]
  },
  {
   "cell_type": "code",
   "execution_count": 17,
   "id": "58938039",
   "metadata": {},
   "outputs": [
    {
     "name": "stdout",
     "output_type": "stream",
     "text": [
      "========\n",
      "Purity: 0.4092115037673777\n",
      "0.44204061784146925\n"
     ]
    }
   ],
   "source": [
    "clustering_with_Kmeans()"
   ]
  }
 ],
 "metadata": {
  "kernelspec": {
   "display_name": "Python 3 (ipykernel)",
   "language": "python",
   "name": "python3"
  },
  "language_info": {
   "codemirror_mode": {
    "name": "ipython",
    "version": 3
   },
   "file_extension": ".py",
   "mimetype": "text/x-python",
   "name": "python",
   "nbconvert_exporter": "python",
   "pygments_lexer": "ipython3",
   "version": "3.9.12"
  }
 },
 "nbformat": 4,
 "nbformat_minor": 5
}
