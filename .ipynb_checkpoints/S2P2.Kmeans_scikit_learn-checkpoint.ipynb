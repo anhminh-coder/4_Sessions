{
 "cells": [
  {
   "cell_type": "code",
   "execution_count": 3,
   "id": "6dec1869",
   "metadata": {},
   "outputs": [],
   "source": [
    "import numpy as np\n",
    "import os\n",
    "from collections import defaultdict\n",
    "from sklearn.cluster import KMeans"
   ]
  },
  {
   "cell_type": "code",
   "execution_count": null,
   "id": "28710783",
   "metadata": {},
   "outputs": [],
   "source": [
    "def load_data(data_path):\n",
    "    def sparse_to_dense(sparse_r_d, vocab_size):\n",
    "            r_d = [0.0 for _ in range(vocab_size)]\n",
    "            indices_tfidfs = sparse_r_d.split()\n",
    "            for index_tfidf in indices_tfidfs:\n",
    "                index = int(index_tfidf.split(\":\")[0])\n",
    "                tfidf = float(index_tfidf.split(\":\")[1])\n",
    "                r_d[index] = tfidf\n",
    "            return np.array(r_d)\n",
    "        \n",
    "        with open(data_path) as f:\n",
    "            d_lines = f.read().splitlines()\n",
    "        with open(os.getcwd()+'/20news-bydate/20news-full-words-idfs.txt') as f:\n",
    "            vocab_size = len(f.read().splitlines())\n",
    "        \n",
    "        self._data = []\n",
    "        self._label_count = defaultdict(int)\n",
    "        for data_id, d in enumerate(d_lines):\n",
    "            features = d.split('<fff>')\n",
    "            label, doc_id = int(features[0]), int(features[1])\n",
    "            self._label_count[label] += 1\n",
    "            r_d = sparse_to_dense(sparse_r_d=features[2], vocab_size=vocab_size)\n",
    "            self._data.append(Member(r_d=r_d, label=label, doc_id=doc_id))"
   ]
  }
 ],
 "metadata": {
  "kernelspec": {
   "display_name": "Python 3 (ipykernel)",
   "language": "python",
   "name": "python3"
  },
  "language_info": {
   "codemirror_mode": {
    "name": "ipython",
    "version": 3
   },
   "file_extension": ".py",
   "mimetype": "text/x-python",
   "name": "python",
   "nbconvert_exporter": "python",
   "pygments_lexer": "ipython3",
   "version": "3.9.12"
  }
 },
 "nbformat": 4,
 "nbformat_minor": 5
}
