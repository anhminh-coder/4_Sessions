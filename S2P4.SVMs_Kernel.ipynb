{
 "cells": [
  {
   "cell_type": "code",
   "execution_count": 1,
   "id": "d02a9131",
   "metadata": {},
   "outputs": [],
   "source": [
    "import os\n",
    "import numpy as np\n",
    "from sklearn.svm import SVC\n",
    "from sklearn.metrics import accuracy_score"
   ]
  },
  {
   "cell_type": "code",
   "execution_count": 2,
   "id": "c67ce25c",
   "metadata": {},
   "outputs": [],
   "source": [
    "def load_data(data_path):\n",
    "    def sparse_to_dense(sparse_r_d, vocab_size):\n",
    "            r_d = [0.0 for _ in range(vocab_size)]\n",
    "            indices_tfidfs = sparse_r_d.split()\n",
    "            for index_tfidf in indices_tfidfs:\n",
    "                index = int(index_tfidf.split(\":\")[0])\n",
    "                tfidf = float(index_tfidf.split(\":\")[1])\n",
    "                r_d[index] = tfidf\n",
    "            return np.array(r_d)\n",
    "        \n",
    "    with open(data_path) as f:\n",
    "        d_lines = f.read().splitlines()\n",
    "    with open(os.getcwd()+'/20news-bydate/20news-full-words-idfs.txt') as f:\n",
    "        vocab_size = len(f.read().splitlines())\n",
    "        \n",
    "    data = []\n",
    "    labels = []\n",
    "    for d in d_lines:\n",
    "        features = d.split('<fff>')\n",
    "        label, doc_id = int(features[0]), int(features[1])\n",
    "        r_d = sparse_to_dense(sparse_r_d=features[2], vocab_size=vocab_size)\n",
    "        data.append(r_d)\n",
    "        labels.append(label)\n",
    "    return data, labels"
   ]
  },
  {
   "cell_type": "code",
   "execution_count": 3,
   "id": "7b5f8bbb",
   "metadata": {},
   "outputs": [],
   "source": [
    "def classifying_with_kernel_SVMs():\n",
    "    X_train, y_train = load_data(os.getcwd()+'/20news-bydate/20news-train-tf-idf.txt')\n",
    "    classifier = SVC(C=50.0, kernel='rbf', gamma=0.1, tol=0.001, verbose=True)\n",
    "    classifier.fit(X_train, y_train)\n",
    "    X_test, y_test = load_data(os.getcwd()+'/20news-bydate/20news-test-tf-idf.txt')\n",
    "    y_predicted = classifier.predict(X_test)\n",
    "    print('Accuracy:', accuracy_score(y_predicted, y_test))"
   ]
  },
  {
   "cell_type": "code",
   "execution_count": 4,
   "id": "65ecd742",
   "metadata": {},
   "outputs": [
    {
     "name": "stdout",
     "output_type": "stream",
     "text": [
      "[LibSVM]Accuracy: 0.8247477429633564\n"
     ]
    }
   ],
   "source": [
    "classifying_with_kernel_SVMs()"
   ]
  }
 ],
 "metadata": {
  "kernelspec": {
   "display_name": "Python 3 (ipykernel)",
   "language": "python",
   "name": "python3"
  },
  "language_info": {
   "codemirror_mode": {
    "name": "ipython",
    "version": 3
   },
   "file_extension": ".py",
   "mimetype": "text/x-python",
   "name": "python",
   "nbconvert_exporter": "python",
   "pygments_lexer": "ipython3",
   "version": "3.9.12"
  }
 },
 "nbformat": 4,
 "nbformat_minor": 5
}
